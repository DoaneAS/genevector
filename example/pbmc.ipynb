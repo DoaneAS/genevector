{
 "cells": [
  {
   "cell_type": "code",
   "execution_count": null,
   "id": "59395eb6",
   "metadata": {},
   "outputs": [],
   "source": [
    "import numpy\n",
    "import collections\n",
    "import sys\n",
    "import os\n",
    "import matplotlib.pyplot as plt\n",
    "import seaborn as sns\n",
    "import pandas\n",
    "import numpy\n",
    "import numpy as np\n",
    "import scanpy as sc\n",
    "\n",
    "sc.settings.verbosity = 3\n",
    "sc.logging.print_header()\n",
    "sc.settings.set_figure_params(dpi=80,facecolor='white')\n",
    "\n",
    "from genevector.data import GeneVectorDataset\n",
    "from genevector.model import GeneVector\n",
    "from genevector.embedding import GeneEmbedding, CellEmbedding"
   ]
  },
  {
   "cell_type": "code",
   "execution_count": null,
   "id": "f151397b",
   "metadata": {},
   "outputs": [],
   "source": [
    "adata = sc.read(\"PBMC.h5ad\")"
   ]
  },
  {
   "cell_type": "code",
   "execution_count": null,
   "id": "11cb5b5f",
   "metadata": {},
   "outputs": [],
   "source": [
    "dataset = GeneVectorDataset(adata)"
   ]
  },
  {
   "cell_type": "code",
   "execution_count": null,
   "id": "eeab09bf",
   "metadata": {},
   "outputs": [],
   "source": [
    "cmps = GeneVector(dataset,\n",
    "                  output_file=\"pbmc.vec\",\n",
    "                  initial_lr=0.15,\n",
    "                  emb_dimension=100)"
   ]
  },
  {
   "cell_type": "code",
   "execution_count": null,
   "id": "0b889bed",
   "metadata": {},
   "outputs": [],
   "source": [
    "for _ in range(25):\n",
    "    cmps.train(20)\n",
    "    embed = GeneEmbedding(\"pbmc.vec\", dataset, vector=\"average\")\n",
    "    print(\"Similarity to CD8A:\")\n",
    "    print(embed.compute_similarities(\"CD8A\")[:10])"
   ]
  },
  {
   "cell_type": "code",
   "execution_count": null,
   "id": "7e6cff9f",
   "metadata": {},
   "outputs": [],
   "source": [
    "cembed = CellEmbedding(dataset, embed)\n",
    "adata = cembed.get_adata()\n",
    "sc.pl.umap(adata,palette=\"Dark2\",color=[\"sample\"], title=[\"Uncorrected\"],add_outline=True)"
   ]
  },
  {
   "cell_type": "code",
   "execution_count": null,
   "id": "caefd974",
   "metadata": {},
   "outputs": [],
   "source": [
    "cembed = CellEmbedding(dataset, embed)\n",
    "cembed.batch_correct(column=\"sample\")\n",
    "adata = cembed.get_adata()\n",
    "sc.pl.umap(adata,palette=\"Dark2\",color=[\"sample\",\"celltype\"], wspace=0.6,\n",
    "                                 title=[\"Corrected\",\"Cell Type\"],add_outline=True,size=15)"
   ]
  },
  {
   "cell_type": "code",
   "execution_count": null,
   "id": "3f660b12",
   "metadata": {},
   "outputs": [],
   "source": [
    "df = embed.compute_similarities(\"CD8A\").head(10)\n",
    "fig,ax = plt.subplots(1,1,figsize=(3,3))\n",
    "sns.barplot(data=df,y=\"Gene\",x=\"Similarity\",palette=\"Dark2\",ax=ax)"
   ]
  },
  {
   "cell_type": "code",
   "execution_count": null,
   "id": "56280824",
   "metadata": {},
   "outputs": [],
   "source": [
    "gdata = embed.get_adata()\n",
    "metagenes = embed.get_metagenes(gdata)"
   ]
  },
  {
   "cell_type": "code",
   "execution_count": null,
   "id": "02e026d0",
   "metadata": {},
   "outputs": [],
   "source": [
    "sc.pp.normalize_total(adata)\n",
    "sc.pp.log1p(adata)\n",
    "embed.score_metagenes(adata, metagenes)"
   ]
  },
  {
   "cell_type": "code",
   "execution_count": null,
   "id": "a9280dd7",
   "metadata": {},
   "outputs": [],
   "source": [
    "embed.plot_metagenes_scores(adata,metagenes,\"detailed_celltype\")"
   ]
  },
  {
   "cell_type": "code",
   "execution_count": null,
   "id": "2a7879c2",
   "metadata": {},
   "outputs": [],
   "source": [
    "for clust, genes in metagenes.items():\n",
    "    if \"CD8A\" in genes:\n",
    "        print(clust,genes)\n",
    "        embed.plot_cluster(gdata, cluster=clust, title=\"CD8 T MG\")"
   ]
  },
  {
   "cell_type": "code",
   "execution_count": null,
   "id": "69ab1909",
   "metadata": {},
   "outputs": [],
   "source": [
    "isg_sig = None\n",
    "for clust, genes in metagenes.items():\n",
    "    if \"IFIT1\" in genes:\n",
    "        isg_sig = clust\n",
    "        print(clust,genes)\n",
    "        embed.plot_cluster(gdata, cluster=clust, title=\"ISG MG\")"
   ]
  },
  {
   "cell_type": "code",
   "execution_count": null,
   "id": "7cf5e97b",
   "metadata": {},
   "outputs": [],
   "source": [
    "def get_predictive_genes(self, adata, label, n_genes=10):\n",
    "    vectors = dict()\n",
    "    mapped_components = dict(zip(list(self.data.keys()),self.matrix))\n",
    "    comps = collections.defaultdict(list)\n",
    "    for bc,x in zip(adata.obs.index,adata.obs[label]):\n",
    "        comps[x].append(mapped_components[bc])\n",
    "    mean_vecs = []\n",
    "    for x, vec in comps.items():\n",
    "        ovecs = []\n",
    "        vec = numpy.average(vec,axis=0)\n",
    "        for oph, ovec in comps.items():\n",
    "            ovecs.append(numpy.average(ovec,axis=0))\n",
    "        aovec = numpy.median(ovecs,axis=0)\n",
    "        vector = numpy.subtract(vec,aovec)\n",
    "        vector = numpy.subtract(vector,self.dataset_vector)\n",
    "        vectors[x] = vector\n",
    "    markers = dict()\n",
    "    for x, mvec in vectors.items():\n",
    "        ct_sig = embed.get_similar_genes(mvec)[:n_genes][\"Gene\"].tolist()\n",
    "        markers[x] = ct_sig\n",
    "    return markers\n",
    "markers = get_predictive_genes(cembed,adata,\"celltype\")\n",
    "pandas.DataFrame.from_dict(markers).T"
   ]
  },
  {
   "cell_type": "code",
   "execution_count": null,
   "id": "3058a829",
   "metadata": {},
   "outputs": [],
   "source": [
    "annotated_adata = cembed.phenotype_probability(adata,markers)"
   ]
  },
  {
   "cell_type": "code",
   "execution_count": null,
   "id": "68c9c59a",
   "metadata": {},
   "outputs": [],
   "source": [
    "prob_cols = [x for x in annotated_adata.obs.columns.tolist() if \"Pseudo-probability\" in x]\n",
    "sc.pl.umap(annotated_adata,color=prob_cols,size=25)"
   ]
  },
  {
   "cell_type": "code",
   "execution_count": null,
   "id": "ae7de0e3",
   "metadata": {},
   "outputs": [],
   "source": [
    "sc.pl.umap(annotated_adata,color=\"genevector\",size=25,add_outline=True)"
   ]
  },
  {
   "cell_type": "code",
   "execution_count": null,
   "id": "1327ca92",
   "metadata": {},
   "outputs": [],
   "source": [
    "import pickle\n",
    "pickle.dump(dict(dataset.mi_scores),open(\"mk.pkl\",\"wb\"))"
   ]
  },
  {
   "cell_type": "code",
   "execution_count": null,
   "id": "0098eb43",
   "metadata": {},
   "outputs": [],
   "source": []
  }
 ],
 "metadata": {
  "kernelspec": {
   "display_name": "Python 3 (ipykernel)",
   "language": "python",
   "name": "python3"
  },
  "language_info": {
   "codemirror_mode": {
    "name": "ipython",
    "version": 3
   },
   "file_extension": ".py",
   "mimetype": "text/x-python",
   "name": "python",
   "nbconvert_exporter": "python",
   "pygments_lexer": "ipython3",
   "version": "3.9.7"
  }
 },
 "nbformat": 4,
 "nbformat_minor": 5
}
