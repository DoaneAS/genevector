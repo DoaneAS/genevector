{
 "cells": [
  {
   "cell_type": "code",
   "execution_count": null,
   "id": "59395eb6",
   "metadata": {},
   "outputs": [],
   "source": [
    "import scanpy as sc\n",
    "sc.settings.verbosity = 3\n",
    "sc.logging.print_header()\n",
    "sc.settings.set_figure_params(dpi=80,facecolor='white')\n",
    "\n",
    "from genevector.data import GeneVectorDataset\n",
    "from genevector.model import GeneVector\n",
    "from genevector.embedding import GeneEmbedding, CellEmbedding"
   ]
  },
  {
   "cell_type": "code",
   "execution_count": null,
   "id": "f151397b",
   "metadata": {},
   "outputs": [],
   "source": [
    "adata = sc.read(\"PBMC.h5ad\")\n",
    "adata"
   ]
  },
  {
   "cell_type": "markdown",
   "id": "68b85b0f",
   "metadata": {},
   "source": [
    "# Process Data"
   ]
  },
  {
   "cell_type": "code",
   "execution_count": null,
   "id": "11cb5b5f",
   "metadata": {},
   "outputs": [],
   "source": [
    "dataset = GeneVectorDataset(adata)"
   ]
  },
  {
   "cell_type": "code",
   "execution_count": null,
   "id": "432faaaa",
   "metadata": {},
   "outputs": [],
   "source": [
    "cmps = GeneVector(dataset,\n",
    "                  output_file=\"pbmc.vec\",\n",
    "                  emb_dimension=100,\n",
    "                  batch_size=10000)"
   ]
  },
  {
   "cell_type": "markdown",
   "id": "2d7301eb",
   "metadata": {},
   "source": [
    "# Setup Model"
   ]
  },
  {
   "cell_type": "markdown",
   "id": "c489b99a",
   "metadata": {},
   "source": [
    "# Train Network"
   ]
  },
  {
   "cell_type": "code",
   "execution_count": null,
   "id": "ac6d94d9",
   "metadata": {},
   "outputs": [],
   "source": [
    "cmps.train(1000,threshold=0.)\n",
    "embed = GeneEmbedding(\"pbmc.vec\", dataset, vector=\"average\")\n",
    "print(embed.compute_similarities(\"IFIT1\")[:30])"
   ]
  },
  {
   "cell_type": "code",
   "execution_count": null,
   "id": "2a0517bd",
   "metadata": {},
   "outputs": [],
   "source": [
    "\n",
    "cembed = CellEmbedding(dataset, embed)\n",
    "adata = cembed.get_adata()\n",
    "sc.pl.umap(adata,palette=\"Dark2\",color=[\"sample\",\"celltype\"], wspace=0.3,\n",
    "                                 title=[\"Corrected\",\"Cell Type\"],add_outline=True,size=15)"
   ]
  },
  {
   "cell_type": "code",
   "execution_count": null,
   "id": "957820c6",
   "metadata": {},
   "outputs": [],
   "source": [
    "cembed.batch_correct(column=\"sample\",reference=\"control\")\n",
    "adata = cembed.get_adata()\n",
    "import matplotlib\n",
    "matplotlib.rcParams['svg.fonttype'] = \"none\"\n",
    "sc.pl.umap(adata,palette=\"Dark2\",color=[\"sample\",\"celltype\"], wspace=0.3,\n",
    "                                 title=[\"Corrected\",\"Cell Type\"],add_outline=True,size=15,save=\"pca_corrected.svg\")"
   ]
  },
  {
   "cell_type": "code",
   "execution_count": null,
   "id": "ece7f407",
   "metadata": {},
   "outputs": [],
   "source": [
    "import matplotlib.pyplot as plt\n",
    "import seaborn as sns\n",
    "sns.set(font_scale=1.)\n",
    "df = embed.compute_similarities(\"CD8A\").head(20)\n",
    "print(df)\n",
    "fig,ax = plt.subplots(1,1,figsize=(3,6))\n",
    "sns.barplot(data=df,y=\"Gene\",x=\"Similarity\",palette=\"Dark2\",ax=ax)"
   ]
  },
  {
   "cell_type": "code",
   "execution_count": null,
   "id": "7821bf20",
   "metadata": {},
   "outputs": [],
   "source": [
    "gdata = embed.get_adata()\n",
    "metagenes = embed.get_metagenes(gdata)"
   ]
  },
  {
   "cell_type": "code",
   "execution_count": null,
   "id": "428ba2da",
   "metadata": {},
   "outputs": [],
   "source": [
    "sc.pp.normalize_total(adata)\n",
    "sc.pp.log1p(adata)\n",
    "embed.score_metagenes(adata, metagenes)"
   ]
  },
  {
   "cell_type": "code",
   "execution_count": null,
   "id": "6e2cacb2",
   "metadata": {},
   "outputs": [],
   "source": [
    "for clust, genes in metagenes.items():\n",
    "    if \"IFIT1\" in genes:\n",
    "        print(clust,genes)\n",
    "        embed.plot_metagene(gdata, mg=clust, title=\"Interferon MG\")\n",
    "        break"
   ]
  },
  {
   "cell_type": "code",
   "execution_count": null,
   "id": "2fcbe5b9",
   "metadata": {},
   "outputs": [],
   "source": [
    "sc.pl.umap(adata,color=[\"{}_SCORE\".format(clust)],\n",
    "           add_outline=True,title=\"ISG Signature\",size=10)"
   ]
  },
  {
   "cell_type": "markdown",
   "id": "f1965e75",
   "metadata": {},
   "source": [
    "# Annotate Cell Types with Pseudo-probabilities"
   ]
  },
  {
   "cell_type": "code",
   "execution_count": null,
   "id": "3058a829",
   "metadata": {},
   "outputs": [],
   "source": [
    "genes = [x for x in genes if x in adata.var.index.tolist()]\n",
    "sc.pl.matrixplot(adata,genes,groupby=\"detailed_celltype\")"
   ]
  },
  {
   "cell_type": "markdown",
   "id": "469c42fe",
   "metadata": {},
   "source": [
    "# Plot All Metagenes"
   ]
  },
  {
   "cell_type": "code",
   "execution_count": null,
   "id": "0098eb43",
   "metadata": {},
   "outputs": [],
   "source": [
    "sns.set(font_scale=0.25)\n",
    "embed.plot_metagenes_scores(adata,metagenes,\"detailed_celltype\")"
   ]
  },
  {
   "cell_type": "markdown",
   "id": "c80a96a8",
   "metadata": {},
   "source": [
    "# Find Similar Genes to Cell Type"
   ]
  },
  {
   "cell_type": "code",
   "execution_count": null,
   "id": "92a696d2",
   "metadata": {},
   "outputs": [],
   "source": [
    "import pandas\n",
    "markers = cembed.get_predictive_genes(adata,\"celltype\",n_genes=5)\n",
    "pandas.DataFrame.from_dict(markers).T"
   ]
  },
  {
   "cell_type": "code",
   "execution_count": null,
   "id": "234a24cb",
   "metadata": {},
   "outputs": [],
   "source": [
    "nmarkers = dict()\n",
    "adata = cembed.phenotype_probability(adata,markers,nmarkers)"
   ]
  },
  {
   "cell_type": "code",
   "execution_count": null,
   "id": "682f679d",
   "metadata": {},
   "outputs": [],
   "source": [
    "sc.pl.umap(adata,color=\"genevector\")"
   ]
  }
 ],
 "metadata": {
  "kernelspec": {
   "display_name": "Python 3 (ipykernel)",
   "language": "python",
   "name": "python3"
  },
  "language_info": {
   "codemirror_mode": {
    "name": "ipython",
    "version": 3
   },
   "file_extension": ".py",
   "mimetype": "text/x-python",
   "name": "python",
   "nbconvert_exporter": "python",
   "pygments_lexer": "ipython3",
   "version": "3.9.13"
  },
  "vscode": {
   "interpreter": {
    "hash": "f27e93ed4435eabb2ef1df46c51935510959c39405f2c071364c7337bf643072"
   }
  }
 },
 "nbformat": 4,
 "nbformat_minor": 5
}
